{
 "cells": [
  {
   "cell_type": "code",
   "execution_count": 6,
   "id": "f936800f",
   "metadata": {},
   "outputs": [],
   "source": [
    "# your_library/your_module.py\n",
    "def funcion1(num1, num2):\n",
    "    try:\n",
    "        result = num1/num2\n",
    "    except ZeroDivisionError:\n",
    "        print(\"Division by zero is not allowed.\")\n",
    "        result = None\n",
    "    return result"
   ]
  }
 ],
 "metadata": {
  "kernelspec": {
   "display_name": "Python 3 (ipykernel)",
   "language": "python",
   "name": "python3"
  },
  "language_info": {
   "codemirror_mode": {
    "name": "ipython",
    "version": 3
   },
   "file_extension": ".py",
   "mimetype": "text/x-python",
   "name": "python",
   "nbconvert_exporter": "python",
   "pygments_lexer": "ipython3",
   "version": "3.9.12"
  }
 },
 "nbformat": 4,
 "nbformat_minor": 5
}
